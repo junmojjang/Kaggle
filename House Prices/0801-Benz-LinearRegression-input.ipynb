{
 "cells": [
  {
   "cell_type": "markdown",
   "id": "399df29b",
   "metadata": {
    "id": "399df29b"
   },
   "source": [
    "* <font color=\"red\">수업자료는 오늘코드의 저작권이 있는 저작물로 블로그, github 등 공개된 곳에 전체를 그대로 올리지 말아주세요. </font>\n",
    "* 또, 수업자료 <font color=\"red\"><b>일부 인용할 때는 출처를 밝혀주세요.</font> 해당 내용은 멋쟁이사자처럼 AI School 오늘코드 박조은 강사의 자료입니다. \n",
    "* 본 학습 자료는 저작권법에 의해 복제/배포/게시/공개를 금합니다.\n",
    "    \n",
    "    \n",
    "    \n",
    "### Mercedes-Benz Greener Manufacturing\n",
    "    \n",
    "Can you cut the time a Mercedes-Benz spends on the test bench? <br>\n",
    "https://www.kaggle.com/c/mercedes-benz-greener-manufacturing\n",
    "<img src='https://storage.googleapis.com/kaggle-competitions/kaggle/6565/media/daimler-mercedes%20V02.jpg'>\n",
    "\n",
    "### 목표\n",
    "* 메르세데스 벤츠 사의 제조 과정에서 테스트 단계에 드는 시간을 예측하세요.\n",
    "\n",
    "### 설명\n",
    "* 메르세데스 벤츠 사의 자동차는 다양한 옵션을 선택할 수 있습니다.\n",
    "* 옵션 선택의 경우의 수에 따라 테스트 단계에서 얼마나 시간을 사용할지가 달라집니다.\n",
    "* 경우의 수에 따라 테스트 시간을 정확히 예측할 수 있다면 회사가 시간을 단축하는 전략을 세우는 데 도움이 됩니다.\n",
    "* 기업의 정보 보호를 위해 데이터의 변수들은 익명화되어 있습니다.\n",
    "\n",
    "## 제조업에서 빅데이터가 중요한 이유\n",
    "\n",
    "### 제조업의 서비스화\n",
    "* 제조업자는 생산 가능한 제품을 공급하고, 소비자는 획일화된 제품을 구매하는 형태에서 벗어나는 추세이다.\n",
    "* 시대의 변화에 따라서 소비자는 개인의 소비 형태에 맞춤화된 제품을 요구하게 되었다.\n",
    "* 빅데이터 기술을 통한 고객정보수집, 분석 및 활용은 고객별로 맞춤화된 제품을 제공하는 데 도움이 된다.\n",
    "\n",
    "### 빅데이터 자체가 갖는 가치\n",
    "* 제조 공정에서 수집되어 전처리를 거친 빅데이터는 그 자체로 가치가 높다.\n",
    "* 다른 산업에서는 산업체끼리 데이터를 거래하는 사례가 이미 존재한다.\n",
    "* 데이터 자체를 적절하게 수집 및 관리하여 자체적으로 활용할 수도 있지만\n",
    "대외적으로 판매할 수도 있다.\n",
    "\n",
    "### 예제에 적용해본다면?\n",
    "* 다양한 옵션을 선택하는 소비자에게 출고까지 걸리는 정확한 시간 고지 가능\n",
    "* 예상 시간이 정확해짐에 따라 제조 공정에서 스케줄 최적화 가능\n",
    "* 정확한 테스트 시간을 예측 가능한 데이터와 머신러닝 모델을 다른 기업에 판매하거나 이를 바탕으로 협업 가능\n",
    "\n",
    "참고문헌 : 오현경, \"산업용 빅데이터 활용으로 인한 글로벌 시장 선도에 대한 연구.\" 국내석사학위논문 고려대학교 컴퓨터정보통신대학원, 2016\n",
    "\n",
    "\n",
    "## 라이브러리 로드"
   ]
  },
  {
   "cell_type": "code",
   "execution_count": null,
   "id": "b39ee43f",
   "metadata": {
    "id": "b39ee43f"
   },
   "outputs": [],
   "source": [
    "import numpy as np\n",
    "import pandas as pd\n",
    "import matplotlib.pyplot as plt\n",
    "import seaborn as sns\n",
    "import os"
   ]
  },
  {
   "cell_type": "markdown",
   "id": "3a62abb9",
   "metadata": {
    "id": "3a62abb9"
   },
   "source": [
    "### 선형회귀모델\n",
    "*  https://scikit-learn.org/stable/modules/linear_model.html\n",
    "\n",
    "## 데이터 로드"
   ]
  },
  {
   "cell_type": "code",
   "execution_count": null,
   "id": "40c7b1a2",
   "metadata": {
    "id": "40c7b1a2"
   },
   "outputs": [],
   "source": [
    "base_path = \"data/benz\""
   ]
  },
  {
   "cell_type": "code",
   "execution_count": null,
   "id": "29abf34e",
   "metadata": {
    "id": "29abf34e"
   },
   "outputs": [],
   "source": [
    "# train 변수에 train.csv 데이터를 불러옵니다.\n",
    "# test 변수에 test.csv 데이터를 불러옵니다.\n",
    "# submission 변수에 sample_submission.csv 데이터를 불러옵니다.\n",
    "train = pd.read_csv(f'{base_path}/train.csv.zip', index_col=\"ID\")\n",
    "test = pd.read_csv(f'{base_path}/test.csv.zip', index_col=\"ID\")\n",
    "submission = pd.read_csv(f'{base_path}/sample_submission.csv.zip', index_col=\"ID\")\n",
    "\n",
    "train.shape, test.shape, submission.shape"
   ]
  },
  {
   "cell_type": "code",
   "execution_count": null,
   "id": "68c94f0e",
   "metadata": {
    "id": "68c94f0e"
   },
   "outputs": [],
   "source": [
    "# train을 확인합니다.\n"
   ]
  },
  {
   "cell_type": "code",
   "execution_count": null,
   "id": "7f7cab6b",
   "metadata": {
    "id": "7f7cab6b"
   },
   "outputs": [],
   "source": [
    "# test를 확인합니다.\n"
   ]
  },
  {
   "cell_type": "code",
   "execution_count": null,
   "id": "959b692e",
   "metadata": {
    "id": "959b692e",
    "scrolled": false
   },
   "outputs": [],
   "source": [
    "# sub를 확인합니다.\n"
   ]
  },
  {
   "cell_type": "markdown",
   "id": "0e933211",
   "metadata": {},
   "source": [
    "## EDA"
   ]
  },
  {
   "cell_type": "code",
   "execution_count": null,
   "id": "a71fd337",
   "metadata": {},
   "outputs": [],
   "source": [
    "# info"
   ]
  },
  {
   "cell_type": "code",
   "execution_count": null,
   "id": "cfa9cc91",
   "metadata": {},
   "outputs": [],
   "source": [
    "# describe"
   ]
  },
  {
   "cell_type": "code",
   "execution_count": null,
   "id": "55b7baf1",
   "metadata": {},
   "outputs": [],
   "source": [
    "# nunique"
   ]
  },
  {
   "cell_type": "code",
   "execution_count": null,
   "id": "adb69834",
   "metadata": {},
   "outputs": [],
   "source": [
    "# heatmap"
   ]
  },
  {
   "cell_type": "markdown",
   "id": "0b339a4b",
   "metadata": {},
   "source": [
    "## One-Hot-Encoding"
   ]
  },
  {
   "cell_type": "code",
   "execution_count": null,
   "id": "b572b726",
   "metadata": {},
   "outputs": [],
   "source": []
  },
  {
   "cell_type": "markdown",
   "id": "bf6df29e",
   "metadata": {
    "id": "bf6df29e"
   },
   "source": [
    "## 학습용 데이터와  검증용 데이터 나누기\n",
    "* 모델이 제대로 학습하고 있는지 확인하고 재조정하기 위해 학습셋과 검증셋을 나눕니다.\n",
    "<br><br>\n",
    "* 만약 학습용 데이터에 테스트용 데이터가 섞여 들어간다면, 머신러닝 모델은 검증할 때 학습한 데이터를 그대로 반환할 것입니다.\n",
    "* 이 경우 머신러닝 모델의 성능은 항샹되지 않았는데 점수는 좋게 나올 것입니다.\n",
    "* 마치 답지를 가지고 시험을 보는 것과 같은 상황입니다.\n",
    "* 이런 상황을 데이터 유출(Data Leakage)라고 합니다.\n",
    "<br><br>\n",
    "* 데이터 유출이 왜 위험할까요?\n",
    "* 데이터 유출을 방지하기 위해서는 어떻게 해야 할까요?\n",
    "\n",
    "*  https://scikit-learn.org/stable/modules/generated/sklearn.model_selection.train_test_split.html"
   ]
  },
  {
   "cell_type": "code",
   "execution_count": null,
   "id": "b5b6e6ca",
   "metadata": {
    "id": "b5b6e6ca"
   },
   "outputs": [],
   "source": [
    "# X\n",
    "# y"
   ]
  },
  {
   "cell_type": "markdown",
   "id": "ca0e600e",
   "metadata": {},
   "source": [
    "## 학습, 검증세트 나누기"
   ]
  },
  {
   "cell_type": "code",
   "execution_count": null,
   "id": "7fc3b1a8",
   "metadata": {
    "id": "7fc3b1a8"
   },
   "outputs": [],
   "source": [
    "# train_test_split\n"
   ]
  },
  {
   "cell_type": "code",
   "execution_count": null,
   "id": "fca69712",
   "metadata": {
    "id": "fca69712"
   },
   "outputs": [],
   "source": [
    "# X_train을 확인합니다.\n"
   ]
  },
  {
   "cell_type": "code",
   "execution_count": null,
   "id": "d49213cf",
   "metadata": {
    "id": "d49213cf"
   },
   "outputs": [],
   "source": [
    "# y_train을 확인합니다.\n"
   ]
  },
  {
   "cell_type": "code",
   "execution_count": null,
   "id": "f88384dd",
   "metadata": {
    "id": "f88384dd"
   },
   "outputs": [],
   "source": [
    "# X_valid를 확인합니다.\n"
   ]
  },
  {
   "cell_type": "code",
   "execution_count": null,
   "id": "97422cb7",
   "metadata": {
    "id": "97422cb7"
   },
   "outputs": [],
   "source": [
    "# y_valid를 확인합니다.\n"
   ]
  },
  {
   "cell_type": "markdown",
   "id": "8e90a1f1",
   "metadata": {
    "id": "8e90a1f1"
   },
   "source": [
    "## 선형회귀 모델\n",
    "\n",
    "### 선형회귀란?\n",
    "* 통계학에서, 선형 회귀(線型回歸, 영어: linear regression)는 종속 변수 y와 한 개 이상의 독립 변수 (또는 설명 변수) X와의 선형 상관 관계를 모델링하는 회귀분석 기법이다. \n",
    "\n",
    "* https://ko.wikipedia.org/wiki/%EC%84%A0%ED%98%95_%ED%9A%8C%EA%B7%80\n",
    "\n",
    "* 특징\n",
    "    * 다른 모델들에 비해 간단한 작동 원리를 가지고 있다.\n",
    "    * 학습 속도가 매우 빠르다.\n",
    "    * 조정해줄 파라미터가 적다.\n",
    "    * 이상치에 영향을 크게 받는다.\n",
    "    * 데이터가 수치형 변수로만 이루어져 있을 경우, 데이터의 경향성이 뚜렷할 경우 사용하기 좋다.\n",
    "\n",
    "\n",
    "* 선형 회귀 모델의 단점을 보완한 모델들이 있습니다.\n",
    "    * Ridge\n",
    "    * Lasso\n",
    "    * ElasticNet"
   ]
  },
  {
   "cell_type": "code",
   "execution_count": null,
   "id": "ff68f36f",
   "metadata": {
    "id": "ff68f36f"
   },
   "outputs": [],
   "source": [
    "# sklearn.linear_model.LinearRegression()\n"
   ]
  },
  {
   "cell_type": "markdown",
   "id": "29807cfc",
   "metadata": {},
   "source": [
    "## 학습"
   ]
  },
  {
   "cell_type": "code",
   "execution_count": null,
   "id": "4bd26675",
   "metadata": {
    "id": "4bd26675",
    "scrolled": true
   },
   "outputs": [],
   "source": []
  },
  {
   "cell_type": "code",
   "execution_count": null,
   "id": "0354e677",
   "metadata": {
    "id": "0354e677",
    "scrolled": true
   },
   "outputs": [],
   "source": [
    "# model.score()\n",
    "# 학습용 세트 정확도(R2 score)를 출력합니다.\n",
    "# 검증 세트 정확도(R2 score)를 출력합니다.\n"
   ]
  },
  {
   "cell_type": "markdown",
   "id": "c0554082",
   "metadata": {},
   "source": [
    "## 예측"
   ]
  },
  {
   "cell_type": "code",
   "execution_count": null,
   "id": "0b63e9d0",
   "metadata": {
    "id": "0b63e9d0"
   },
   "outputs": [],
   "source": []
  },
  {
   "cell_type": "markdown",
   "id": "7ecf3af3",
   "metadata": {},
   "source": [
    "## 제출"
   ]
  },
  {
   "cell_type": "code",
   "execution_count": null,
   "id": "cbc909a3",
   "metadata": {
    "id": "cbc909a3",
    "scrolled": false
   },
   "outputs": [],
   "source": [
    "# 답안지 불러오기\n"
   ]
  },
  {
   "cell_type": "code",
   "execution_count": null,
   "id": "b68ccf89",
   "metadata": {
    "id": "b68ccf89"
   },
   "outputs": [],
   "source": [
    "# 제출을 위해 csv 파일로 저장합니다.\n"
   ]
  },
  {
   "cell_type": "markdown",
   "id": "640804b5",
   "metadata": {
    "id": "640804b5"
   },
   "source": [
    "* 점수에는 public score와 private score가 있습니다.\n",
    "* 대회마다 public score와 private score를 매기는 방식이 다 다르지만, 일반적으로 public score는 전체 데이터 중 일부만을 샘플링하여 채점하고, private score는 전체 데이터 중 더 많은 데이터를 대상으로 채점합니다.\n",
    "* 참가자들이 얻은 public score는 리더보드에 공개되며 이를 바탕으로 현재 위치를 가늠할 수 있습니다.\n",
    "* 그러나 최종 결과는 private score로 결정됩니다.\n",
    "\n",
    "\n",
    "https://www.kaggle.com/c/mercedes-benz-greener-manufacturing"
   ]
  },
  {
   "cell_type": "code",
   "execution_count": null,
   "id": "728c0e04",
   "metadata": {
    "id": "728c0e04"
   },
   "outputs": [],
   "source": []
  },
  {
   "cell_type": "code",
   "execution_count": null,
   "id": "f8707621",
   "metadata": {},
   "outputs": [],
   "source": []
  }
 ],
 "metadata": {
  "colab": {
   "collapsed_sections": [],
   "name": "0802-Benz_ML_LinearRegression.ipynb",
   "provenance": []
  },
  "kernelspec": {
   "display_name": "Python 3 (ipykernel)",
   "language": "python",
   "name": "python3"
  },
  "language_info": {
   "codemirror_mode": {
    "name": "ipython",
    "version": 3
   },
   "file_extension": ".py",
   "mimetype": "text/x-python",
   "name": "python",
   "nbconvert_exporter": "python",
   "pygments_lexer": "ipython3",
   "version": "3.7.13"
  },
  "toc": {
   "base_numbering": 1,
   "nav_menu": {},
   "number_sections": true,
   "sideBar": true,
   "skip_h1_title": false,
   "title_cell": "Table of Contents",
   "title_sidebar": "Contents",
   "toc_cell": false,
   "toc_position": {},
   "toc_section_display": true,
   "toc_window_display": false
  },
  "varInspector": {
   "cols": {
    "lenName": 16,
    "lenType": 16,
    "lenVar": 40
   },
   "kernels_config": {
    "python": {
     "delete_cmd_postfix": "",
     "delete_cmd_prefix": "del ",
     "library": "var_list.py",
     "varRefreshCmd": "print(var_dic_list())"
    },
    "r": {
     "delete_cmd_postfix": ") ",
     "delete_cmd_prefix": "rm(",
     "library": "var_list.r",
     "varRefreshCmd": "cat(var_dic_list()) "
    }
   },
   "types_to_exclude": [
    "module",
    "function",
    "builtin_function_or_method",
    "instance",
    "_Feature"
   ],
   "window_display": false
  }
 },
 "nbformat": 4,
 "nbformat_minor": 5
}
